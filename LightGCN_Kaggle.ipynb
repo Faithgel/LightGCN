{
  "cells": [
    {
      "cell_type": "markdown",
      "metadata": {},
      "source": [
        "# LightGCN on Kaggle\n",
        "\n",
        "This notebook demonstrates how to set up and run the LightGCN model on Kaggle."
      ]
    },
    {
      "cell_type": "markdown",
      "metadata": {},
      "source": [
        "## Environment Setup\n",
        "\n",
        "First, we need to set up the environment by installing the required libraries and specifying their versions."
      ]
    },
    {
      "cell_type": "code",
      "metadata": {},
      "source": [
        "!pip install tensorflow==1.11.0\n",
        "!pip install numpy==1.14.3\n",
        "!pip install scipy==1.1.0\n",
        "!pip install scikit-learn==0.19.1\n",
        "!pip install cython==0.29.15"
      ],
      "execution_count": null,
      "outputs": []
    },
    {
      "cell_type": "markdown",
      "metadata": {},
      "source": [
        "## Specify Python Version\n",
        "\n",
        "We need to specify the Python version as 3.6.5, which is required for this project."
      ]
    },
    {
      "cell_type": "code",
      "metadata": {},
      "source": [
        "!python --version"
      ],
      "execution_count": null,
      "outputs": []
    },
    {
      "cell_type": "markdown",
      "metadata": {},
      "source": [
        "## Create Virtual Environment\n",
        "\n",
        "Create a virtual environment with Python 3.6.5."
      ]
    },
    {
      "cell_type": "code",
      "metadata": {},
      "source": [
        "!python3.6 -m venv lightgcn_env\n",
        "!source lightgcn_env/bin/activate"
      ],
      "execution_count": null,
      "outputs": []
    },
    {
      "cell_type": "markdown",
      "metadata": {},
      "source": [
        "## Compile C++ Evaluator\n",
        "\n",
        "Next, we need to compile the C++ evaluator by running the following command in the root directory of the repository."
      ]
    },
    {
      "cell_type": "code",
      "metadata": {},
      "source": [
        "!python setup.py build_ext --inplace"
      ],
      "execution_count": null,
      "outputs": []
    },
    {
      "cell_type": "markdown",
      "metadata": {},
      "source": [
        "## Upload Dataset Files\n",
        "\n",
        "Upload the dataset files to the appropriate directories in Kaggle. For example, place the `train.txt`, `test.txt`, `user_list.txt`, and `item_list.txt` files in the `Data/amazon-book` directory."
      ]
    },
    {
      "cell_type": "markdown",
      "metadata": {},
      "source": [
        "## Update Data Path\n",
        "\n",
        "Update the `data_path` argument in the `utility/parser.py` file to match the Kaggle environment."
      ]
    },
    {
      "cell_type": "code",
      "metadata": {},
      "source": [
        "import os\n",
        "os.environ['data_path'] = '/kaggle/input/your-dataset-directory/'"
      ],
      "execution_count": null,
      "outputs": []
    },
    {
      "cell_type": "markdown",
      "metadata": {},
      "source": [
        "## Run LightGCN Model\n",
        "\n",
        "Finally, run the `LightGCN.py` script with the desired arguments to start training the model."
      ]
    },
    {
      "cell_type": "code",
      "metadata": {},
      "source": [
        "!python LightGCN.py --dataset amazon-book --regs [1e-4] --embed_size 64 --layer_size [64,64,64] --lr 0.001 --batch_size 8192 --epoch 1000"
      ],
      "execution_count": null,
      "outputs": []
    }
  ],
  "metadata": {
    "kernelspec": {
      "display_name": "Python 3",
      "language": "python",
      "name": "python3"
    },
    "language_info": {
      "codemirror_mode": {
        "name": "ipython",
        "version": 3
      },
      "file_extension": ".py",
      "mimetype": "text/x-python",
      "name": "python",
      "nbconvert_exporter": "python",
      "pygments_lexer": "ipython3",
      "version": "3.7.12"
    }
  },
  "nbformat": 4,
  "nbformat_minor": 4
}
